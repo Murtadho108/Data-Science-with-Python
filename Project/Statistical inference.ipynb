{
 "cells": [
  {
   "cell_type": "code",
   "execution_count": 1,
   "metadata": {
    "collapsed": true
   },
   "outputs": [],
   "source": [
    "import pandas as pd\n",
    "import numpy as np\n",
    "import matplotlib.pyplot as plt\n",
    "import math\n",
    "import sys"
   ]
  },
  {
   "cell_type": "code",
   "execution_count": 2,
   "metadata": {},
   "outputs": [
    {
     "data": {
      "text/plain": [
       "Index(['Número d'expedient', 'Codi districte', 'Nom districte', 'NK barri',\n",
       "       'Nom barri', 'Codi carrer', 'Nom carrer', 'Num postal caption',\n",
       "       'Descripció dia setmana', 'Dia de setmana', 'Descripció tipus dia',\n",
       "       'NK Any', 'Mes de any', 'Nom mes', 'Dia de mes', 'Hora de dia',\n",
       "       'Descripció torn', 'Descripció causa vianant', 'Número de morts',\n",
       "       'Número de lesionats lleus', 'Número de lesionats greus',\n",
       "       'Número de víctimes', 'Número de vehicles implicats',\n",
       "       'Coordenada UTM (Y)', 'Coordenada UTM (X)'],\n",
       "      dtype='object')"
      ]
     },
     "execution_count": 2,
     "metadata": {},
     "output_type": "execute_result"
    }
   ],
   "source": [
    "data1 = pd.read_csv('F:\\Learn Python\\Data\\ACCIDENTS_GU_BCN_2013.csv')\n",
    "data1.columns"
   ]
  },
  {
   "cell_type": "code",
   "execution_count": 3,
   "metadata": {
    "collapsed": true
   },
   "outputs": [],
   "source": [
    "data1 ['Date'] ='2013-'+data1['Mes de any'].apply(lambda x:str(x))+'-'+data1['Dia de mes'].apply(lambda x:str(x))"
   ]
  },
  {
   "cell_type": "code",
   "execution_count": 4,
   "metadata": {},
   "outputs": [
    {
     "data": {
      "text/plain": [
       "Index(['Número d'expedient', 'Codi districte', 'Nom districte', 'NK barri',\n",
       "       'Nom barri', 'Codi carrer', 'Nom carrer', 'Num postal caption',\n",
       "       'Descripció dia setmana', 'Dia de setmana', 'Descripció tipus dia',\n",
       "       'NK Any', 'Mes de any', 'Nom mes', 'Dia de mes', 'Hora de dia',\n",
       "       'Descripció torn', 'Descripció causa vianant', 'Número de morts',\n",
       "       'Número de lesionats lleus', 'Número de lesionats greus',\n",
       "       'Número de víctimes', 'Número de vehicles implicats',\n",
       "       'Coordenada UTM (Y)', 'Coordenada UTM (X)', 'Date'],\n",
       "      dtype='object')"
      ]
     },
     "execution_count": 4,
     "metadata": {},
     "output_type": "execute_result"
    }
   ],
   "source": [
    "data1.columns"
   ]
  },
  {
   "cell_type": "code",
   "execution_count": 5,
   "metadata": {},
   "outputs": [
    {
     "data": {
      "text/html": [
       "<div>\n",
       "<style>\n",
       "    .dataframe thead tr:only-child th {\n",
       "        text-align: right;\n",
       "    }\n",
       "\n",
       "    .dataframe thead th {\n",
       "        text-align: left;\n",
       "    }\n",
       "\n",
       "    .dataframe tbody tr th {\n",
       "        vertical-align: top;\n",
       "    }\n",
       "</style>\n",
       "<table border=\"1\" class=\"dataframe\">\n",
       "  <thead>\n",
       "    <tr style=\"text-align: right;\">\n",
       "      <th></th>\n",
       "      <th>Número d'expedient</th>\n",
       "      <th>Codi districte</th>\n",
       "      <th>Nom districte</th>\n",
       "      <th>NK barri</th>\n",
       "      <th>Nom barri</th>\n",
       "      <th>Codi carrer</th>\n",
       "      <th>Nom carrer</th>\n",
       "      <th>Num postal caption</th>\n",
       "      <th>Descripció dia setmana</th>\n",
       "      <th>Dia de setmana</th>\n",
       "      <th>...</th>\n",
       "      <th>Descripció torn</th>\n",
       "      <th>Descripció causa vianant</th>\n",
       "      <th>Número de morts</th>\n",
       "      <th>Número de lesionats lleus</th>\n",
       "      <th>Número de lesionats greus</th>\n",
       "      <th>Número de víctimes</th>\n",
       "      <th>Número de vehicles implicats</th>\n",
       "      <th>Coordenada UTM (Y)</th>\n",
       "      <th>Coordenada UTM (X)</th>\n",
       "      <th>Date</th>\n",
       "    </tr>\n",
       "  </thead>\n",
       "  <tbody>\n",
       "    <tr>\n",
       "      <th>0</th>\n",
       "      <td>2013S007360</td>\n",
       "      <td>-1</td>\n",
       "      <td>Desconegut</td>\n",
       "      <td>-1--1--1</td>\n",
       "      <td>Desconegut</td>\n",
       "      <td>-1</td>\n",
       "      <td>Desconegut</td>\n",
       "      <td>Desconegut</td>\n",
       "      <td>Dimecres</td>\n",
       "      <td>3</td>\n",
       "      <td>...</td>\n",
       "      <td>Tarda</td>\n",
       "      <td>Desconegut</td>\n",
       "      <td>0</td>\n",
       "      <td>1</td>\n",
       "      <td>0</td>\n",
       "      <td>1</td>\n",
       "      <td>2</td>\n",
       "      <td>-1</td>\n",
       "      <td>-1</td>\n",
       "      <td>2013-10-16</td>\n",
       "    </tr>\n",
       "    <tr>\n",
       "      <th>1</th>\n",
       "      <td>2013S007723</td>\n",
       "      <td>10</td>\n",
       "      <td>Sant Martí</td>\n",
       "      <td>101-10-64</td>\n",
       "      <td>el Camp de l'Arpa del Clot</td>\n",
       "      <td>152600</td>\n",
       "      <td>Guinardó</td>\n",
       "      <td>0028 0032</td>\n",
       "      <td>Dimarts</td>\n",
       "      <td>2</td>\n",
       "      <td>...</td>\n",
       "      <td>Tarda</td>\n",
       "      <td>Desconegut</td>\n",
       "      <td>0</td>\n",
       "      <td>1</td>\n",
       "      <td>0</td>\n",
       "      <td>1</td>\n",
       "      <td>2</td>\n",
       "      <td>4585218,67</td>\n",
       "      <td>431621,41</td>\n",
       "      <td>2013-10-29</td>\n",
       "    </tr>\n",
       "    <tr>\n",
       "      <th>2</th>\n",
       "      <td>2013S005373</td>\n",
       "      <td>10</td>\n",
       "      <td>Sant Martí</td>\n",
       "      <td>101-10-64</td>\n",
       "      <td>el Camp de l'Arpa del Clot</td>\n",
       "      <td>134801</td>\n",
       "      <td>Freser</td>\n",
       "      <td>0053 0053</td>\n",
       "      <td>Dimarts</td>\n",
       "      <td>2</td>\n",
       "      <td>...</td>\n",
       "      <td>Matí</td>\n",
       "      <td>Creuar per fora pas de vianants</td>\n",
       "      <td>0</td>\n",
       "      <td>1</td>\n",
       "      <td>0</td>\n",
       "      <td>1</td>\n",
       "      <td>1</td>\n",
       "      <td>4585049,89</td>\n",
       "      <td>431605,09</td>\n",
       "      <td>2013-7-23</td>\n",
       "    </tr>\n",
       "    <tr>\n",
       "      <th>3</th>\n",
       "      <td>2013S001486</td>\n",
       "      <td>10</td>\n",
       "      <td>Sant Martí</td>\n",
       "      <td>101-10-64</td>\n",
       "      <td>el Camp de l'Arpa del Clot</td>\n",
       "      <td>161407</td>\n",
       "      <td>Indústria</td>\n",
       "      <td>0224 0224</td>\n",
       "      <td>Dimarts</td>\n",
       "      <td>2</td>\n",
       "      <td>...</td>\n",
       "      <td>Matí</td>\n",
       "      <td>Altres</td>\n",
       "      <td>0</td>\n",
       "      <td>1</td>\n",
       "      <td>0</td>\n",
       "      <td>1</td>\n",
       "      <td>1</td>\n",
       "      <td>4584836,20</td>\n",
       "      <td>431302,26</td>\n",
       "      <td>2013-2-26</td>\n",
       "    </tr>\n",
       "    <tr>\n",
       "      <th>4</th>\n",
       "      <td>2013S008254</td>\n",
       "      <td>10</td>\n",
       "      <td>Sant Martí</td>\n",
       "      <td>101-10-64</td>\n",
       "      <td>el Camp de l'Arpa del Clot</td>\n",
       "      <td>161101</td>\n",
       "      <td>Independència</td>\n",
       "      <td>0357 0357</td>\n",
       "      <td>Dilluns</td>\n",
       "      <td>1</td>\n",
       "      <td>...</td>\n",
       "      <td>Tarda</td>\n",
       "      <td>Desconegut</td>\n",
       "      <td>0</td>\n",
       "      <td>1</td>\n",
       "      <td>0</td>\n",
       "      <td>1</td>\n",
       "      <td>2</td>\n",
       "      <td>4584704,26</td>\n",
       "      <td>431385,76</td>\n",
       "      <td>2013-11-18</td>\n",
       "    </tr>\n",
       "  </tbody>\n",
       "</table>\n",
       "<p>5 rows × 26 columns</p>\n",
       "</div>"
      ],
      "text/plain": [
       "  Número d'expedient  Codi districte Nom districte   NK barri  \\\n",
       "0        2013S007360              -1    Desconegut   -1--1--1   \n",
       "1        2013S007723              10    Sant Martí  101-10-64   \n",
       "2        2013S005373              10    Sant Martí  101-10-64   \n",
       "3        2013S001486              10    Sant Martí  101-10-64   \n",
       "4        2013S008254              10    Sant Martí  101-10-64   \n",
       "\n",
       "                    Nom barri  Codi carrer     Nom carrer Num postal caption  \\\n",
       "0                  Desconegut           -1     Desconegut         Desconegut   \n",
       "1  el Camp de l'Arpa del Clot       152600       Guinardó          0028 0032   \n",
       "2  el Camp de l'Arpa del Clot       134801         Freser          0053 0053   \n",
       "3  el Camp de l'Arpa del Clot       161407      Indústria          0224 0224   \n",
       "4  el Camp de l'Arpa del Clot       161101  Independència          0357 0357   \n",
       "\n",
       "  Descripció dia setmana  Dia de setmana     ...     Descripció torn  \\\n",
       "0               Dimecres               3     ...               Tarda   \n",
       "1                Dimarts               2     ...               Tarda   \n",
       "2                Dimarts               2     ...                Matí   \n",
       "3                Dimarts               2     ...                Matí   \n",
       "4                Dilluns               1     ...               Tarda   \n",
       "\n",
       "          Descripció causa vianant  Número de morts Número de lesionats lleus  \\\n",
       "0                       Desconegut                0                         1   \n",
       "1                       Desconegut                0                         1   \n",
       "2  Creuar per fora pas de vianants                0                         1   \n",
       "3                           Altres                0                         1   \n",
       "4                       Desconegut                0                         1   \n",
       "\n",
       "   Número de lesionats greus  Número de víctimes Número de vehicles implicats  \\\n",
       "0                          0                   1                            2   \n",
       "1                          0                   1                            2   \n",
       "2                          0                   1                            1   \n",
       "3                          0                   1                            1   \n",
       "4                          0                   1                            2   \n",
       "\n",
       "  Coordenada UTM (Y)  Coordenada UTM (X)        Date  \n",
       "0                 -1                  -1  2013-10-16  \n",
       "1         4585218,67           431621,41  2013-10-29  \n",
       "2         4585049,89           431605,09   2013-7-23  \n",
       "3         4584836,20           431302,26   2013-2-26  \n",
       "4         4584704,26           431385,76  2013-11-18  \n",
       "\n",
       "[5 rows x 26 columns]"
      ]
     },
     "execution_count": 5,
     "metadata": {},
     "output_type": "execute_result"
    }
   ],
   "source": [
    "data1.head()"
   ]
  },
  {
   "cell_type": "code",
   "execution_count": 6,
   "metadata": {},
   "outputs": [
    {
     "data": {
      "text/html": [
       "<div>\n",
       "<style>\n",
       "    .dataframe thead tr:only-child th {\n",
       "        text-align: right;\n",
       "    }\n",
       "\n",
       "    .dataframe thead th {\n",
       "        text-align: left;\n",
       "    }\n",
       "\n",
       "    .dataframe tbody tr th {\n",
       "        vertical-align: top;\n",
       "    }\n",
       "</style>\n",
       "<table border=\"1\" class=\"dataframe\">\n",
       "  <thead>\n",
       "    <tr style=\"text-align: right;\">\n",
       "      <th></th>\n",
       "      <th>Date</th>\n",
       "    </tr>\n",
       "  </thead>\n",
       "  <tbody>\n",
       "    <tr>\n",
       "      <th>0</th>\n",
       "      <td>2013-10-16</td>\n",
       "    </tr>\n",
       "    <tr>\n",
       "      <th>1</th>\n",
       "      <td>2013-10-29</td>\n",
       "    </tr>\n",
       "    <tr>\n",
       "      <th>2</th>\n",
       "      <td>2013-7-23</td>\n",
       "    </tr>\n",
       "    <tr>\n",
       "      <th>3</th>\n",
       "      <td>2013-2-26</td>\n",
       "    </tr>\n",
       "    <tr>\n",
       "      <th>4</th>\n",
       "      <td>2013-11-18</td>\n",
       "    </tr>\n",
       "  </tbody>\n",
       "</table>\n",
       "</div>"
      ],
      "text/plain": [
       "         Date\n",
       "0  2013-10-16\n",
       "1  2013-10-29\n",
       "2   2013-7-23\n",
       "3   2013-2-26\n",
       "4  2013-11-18"
      ]
     },
     "execution_count": 6,
     "metadata": {},
     "output_type": "execute_result"
    }
   ],
   "source": [
    "data1[['Date']].head()"
   ]
  },
  {
   "cell_type": "code",
   "execution_count": 7,
   "metadata": {},
   "outputs": [
    {
     "data": {
      "text/plain": [
       "Date\n",
       "2013-1-1     16\n",
       "2013-1-10    31\n",
       "2013-1-11    27\n",
       "2013-1-12    17\n",
       "2013-1-13    10\n",
       "2013-1-14    21\n",
       "2013-1-15    30\n",
       "2013-1-16    29\n",
       "2013-1-17    27\n",
       "2013-1-18    31\n",
       "dtype: int64"
      ]
     },
     "execution_count": 7,
     "metadata": {},
     "output_type": "execute_result"
    }
   ],
   "source": [
    "# data1['Date'] = pd.to_datetime(data1['Date'])\n",
    "acc = data1.groupby(['Date']).size()\n",
    "acc[:10]"
   ]
  },
  {
   "cell_type": "code",
   "execution_count": 8,
   "metadata": {},
   "outputs": [
    {
     "data": {
      "text/plain": [
       "25.90958904109589"
      ]
     },
     "execution_count": 8,
     "metadata": {},
     "output_type": "execute_result"
    }
   ],
   "source": [
    "acc.mean()"
   ]
  },
  {
   "cell_type": "code",
   "execution_count": 9,
   "metadata": {},
   "outputs": [
    {
     "data": {
      "image/png": "[encoded data removed]",
      "text/plain": [
       "<matplotlib.figure.Figure at 0x18d1a899710>"
      ]
     },
     "metadata": {},
     "output_type": "display_data"
    }
   ],
   "source": [
    "fig,ax=plt.subplots(1,1,figsize=(10,5))\n",
    "plt.xlabel('Day')\n",
    "plt.ylabel('Number of accidents')\n",
    "\n",
    "plt.plot(range(0,365),np.array(acc),'r-*',lw=0.9,alpha=0.5)\n",
    "plt.plot(range(0,365),[acc.mean()]*365,'b-',lw=0.9,alpha=0.5)\n",
    "plt.show()"
   ]
  },
  {
   "cell_type": "code",
   "execution_count": 10,
   "metadata": {},
   "outputs": [
    {
     "data": {
      "image/png": "[encoded data removed]",
      "text/plain": [
       "<matplotlib.figure.Figure at 0x18d1a7f02e8>"
      ]
     },
     "metadata": {},
     "output_type": "display_data"
    }
   ],
   "source": [
    "fig,ax=plt.subplots(1,1,figsize=(10,5))\n",
    "plt.xlabel('Number of accidents')\n",
    "plt.ylabel('Frequency')\n",
    "plt.hist(np.array(acc),bins=20,color='lightsalmon')\n",
    "ax.axvline(x=acc.mean(),ymin=0,ymax=40,color=[0,1,1])\n",
    "plt.show()"
   ]
  },
  {
   "cell_type": "code",
   "execution_count": 11,
   "metadata": {},
   "outputs": [
    {
     "name": "stdout",
     "output_type": "stream",
     "text": [
      "Mean:  25.90958904109589 Standard Deviation:  9.108324962464703\n"
     ]
    }
   ],
   "source": [
    "print(\"Mean: \",acc.mean(),\"Standard Deviation: \",acc.std())"
   ]
  },
  {
   "cell_type": "code",
   "execution_count": 12,
   "metadata": {},
   "outputs": [],
   "source": [
    "# population\n",
    "df = acc.to_frame()\n",
    "N_test = 10000\n",
    "elements = 200\n",
    "# mean array of samples\n",
    "means = [0]*N_test\n",
    "# sample generation\n",
    "for i in range ( N_test ):\n",
    "    rows = np.random.choice(df.index.values,elements)\n",
    "    sampled_df = df.loc[rows]\n",
    "    means[i] = sampled_df.mean()\n"
   ]
  },
  {
   "cell_type": "code",
   "execution_count": 13,
   "metadata": {},
   "outputs": [
    {
     "name": "stdout",
     "output_type": "stream",
     "text": [
      "Direct estimation of SE from one sample of 200 elements 0.676354401466\n",
      "Estimating of the SE by simulating 10000 samples of 200 elements:  0.636058269271\n"
     ]
    }
   ],
   "source": [
    "row = np.random.choice(df.index.values,200)\n",
    "sampled_df=df.loc[row]\n",
    "est_sigma_mean=sampled_df.std()/math.sqrt(200)\n",
    "print('Direct estimation of SE from one sample of 200 elements',est_sigma_mean[0])\n",
    "print('Estimating of the SE by simulating 10000 samples of 200 elements: ',np.array(means).std())"
   ]
  },
  {
   "cell_type": "code",
   "execution_count": 14,
   "metadata": {},
   "outputs": [
    {
     "name": "stdout",
     "output_type": "stream",
     "text": [
      "Mean estimate :  25.9126164384\n"
     ]
    }
   ],
   "source": [
    "def mean_bootstrap(x,numb):\n",
    "    y=[0]*numb\n",
    "    for i in range(numb):\n",
    "        sample=[x[j] for j in np.random.choice(len(x),size=len(x))]\n",
    "        y[i]=np.mean(sample)\n",
    "    return y\n",
    "xbar = mean_bootstrap(acc,1000)\n",
    "print(\"Mean estimate : \",np.mean(xbar))"
   ]
  },
  {
   "cell_type": "code",
   "execution_count": 15,
   "metadata": {},
   "outputs": [
    {
     "name": "stdout",
     "output_type": "stream",
     "text": [
      "Confidence Interval:  [24.975156065800284, 26.8440220163915]\n"
     ]
    }
   ],
   "source": [
    "m=acc.mean()\n",
    "se=acc.std()/math.sqrt(len(acc))\n",
    "conf_int=[m-se*1.96,m+se*1.96]\n",
    "print(\"Confidence Interval: \",conf_int)"
   ]
  },
  {
   "cell_type": "code",
   "execution_count": 16,
   "metadata": {},
   "outputs": [
    {
     "name": "stdout",
     "output_type": "stream",
     "text": [
      "Mean estimate:  25.8981150685\n",
      "SE of the estimate:  0.464226980156\n",
      "Confidence Interval: [24.986232876712329, 26.824863013698629]\n"
     ]
    }
   ],
   "source": [
    "xbar = mean_bootstrap(acc,1000)\n",
    "sample_mean = np.mean(xbar)\n",
    "sample_se = np.std(xbar)\n",
    "print(\"Mean estimate: \",sample_mean)\n",
    "print(\"SE of the estimate: \",sample_se)\n",
    "conf_int = [np.percentile(xbar,2.5),np.percentile(xbar,97.5)]\n",
    "print(\"Confidence Interval:\",conf_int)"
   ]
  },
  {
   "cell_type": "code",
   "execution_count": 17,
   "metadata": {},
   "outputs": [
    {
     "data": {
      "text/plain": [
       "Index(['Número d'expedient', 'Codi districte', 'Nom districte', 'NK barri',\n",
       "       'Nom barri', 'Codi carrer', 'Nom carrer', 'Num postal caption',\n",
       "       'Descripció dia setmana', 'Dia de setmana', 'Descripció tipus dia',\n",
       "       'NK Any', 'Mes de any', 'Nom mes', 'Dia de mes', 'Hora de dia',\n",
       "       'Descripció torn', 'Descripció causa vianant', 'Número de morts',\n",
       "       'Número de lesionats lleus', 'Número de lesionats greus',\n",
       "       'Número de víctimes', 'Número de vehicles implicats',\n",
       "       'Coordenada UTM (Y)', 'Coordenada UTM (X)'],\n",
       "      dtype='object')"
      ]
     },
     "execution_count": 17,
     "metadata": {},
     "output_type": "execute_result"
    }
   ],
   "source": [
    "data2 = pd.read_csv('F:\\Learn Python\\Data\\ACCIDENTS_GU_BCN_2010.csv')\n",
    "data2.columns"
   ]
  },
  {
   "cell_type": "code",
   "execution_count": 18,
   "metadata": {
    "collapsed": true
   },
   "outputs": [],
   "source": [
    "# Create a new column which is the date\n",
    "data2['Date'] ='2010-'+data2['Mes de any'].apply(lambda x:str(x))+'-'+data2['Dia de mes'].apply(lambda x:str(x))"
   ]
  },
  {
   "cell_type": "code",
   "execution_count": 19,
   "metadata": {},
   "outputs": [
    {
     "data": {
      "text/plain": [
       "Index(['Número d'expedient', 'Codi districte', 'Nom districte', 'NK barri',\n",
       "       'Nom barri', 'Codi carrer', 'Nom carrer', 'Num postal caption',\n",
       "       'Descripció dia setmana', 'Dia de setmana', 'Descripció tipus dia',\n",
       "       'NK Any', 'Mes de any', 'Nom mes', 'Dia de mes', 'Hora de dia',\n",
       "       'Descripció torn', 'Descripció causa vianant', 'Número de morts',\n",
       "       'Número de lesionats lleus', 'Número de lesionats greus',\n",
       "       'Número de víctimes', 'Número de vehicles implicats',\n",
       "       'Coordenada UTM (Y)', 'Coordenada UTM (X)', 'Date'],\n",
       "      dtype='object')"
      ]
     },
     "execution_count": 19,
     "metadata": {},
     "output_type": "execute_result"
    }
   ],
   "source": [
    "data2.columns"
   ]
  },
  {
   "cell_type": "code",
   "execution_count": 20,
   "metadata": {},
   "outputs": [
    {
     "data": {
      "text/html": [
       "<div>\n",
       "<style>\n",
       "    .dataframe thead tr:only-child th {\n",
       "        text-align: right;\n",
       "    }\n",
       "\n",
       "    .dataframe thead th {\n",
       "        text-align: left;\n",
       "    }\n",
       "\n",
       "    .dataframe tbody tr th {\n",
       "        vertical-align: top;\n",
       "    }\n",
       "</style>\n",
       "<table border=\"1\" class=\"dataframe\">\n",
       "  <thead>\n",
       "    <tr style=\"text-align: right;\">\n",
       "      <th></th>\n",
       "      <th>Date</th>\n",
       "    </tr>\n",
       "  </thead>\n",
       "  <tbody>\n",
       "    <tr>\n",
       "      <th>0</th>\n",
       "      <td>2010-5-28</td>\n",
       "    </tr>\n",
       "    <tr>\n",
       "      <th>1</th>\n",
       "      <td>2010-11-8</td>\n",
       "    </tr>\n",
       "    <tr>\n",
       "      <th>2</th>\n",
       "      <td>2010-2-25</td>\n",
       "    </tr>\n",
       "    <tr>\n",
       "      <th>3</th>\n",
       "      <td>2010-8-3</td>\n",
       "    </tr>\n",
       "    <tr>\n",
       "      <th>4</th>\n",
       "      <td>2010-12-24</td>\n",
       "    </tr>\n",
       "  </tbody>\n",
       "</table>\n",
       "</div>"
      ],
      "text/plain": [
       "         Date\n",
       "0   2010-5-28\n",
       "1   2010-11-8\n",
       "2   2010-2-25\n",
       "3    2010-8-3\n",
       "4  2010-12-24"
      ]
     },
     "execution_count": 20,
     "metadata": {},
     "output_type": "execute_result"
    }
   ],
   "source": [
    "data2[['Date']].head()"
   ]
  },
  {
   "cell_type": "code",
   "execution_count": 21,
   "metadata": {},
   "outputs": [
    {
     "name": "stdout",
     "output_type": "stream",
     "text": [
      "2013: Mean 25.90958904109589\n",
      "2010 : Mean 24.81095890410959\n"
     ]
    }
   ],
   "source": [
    "# Hypothesis Test\n",
    "\n",
    "data1_date = data1 ['Date']\n",
    "count2013= data1['Date'].value_counts()\n",
    "print('2013: Mean',count2013.mean())\n",
    "\n",
    "data2_date = data2['Date']\n",
    "count2010= data2['Date'].value_counts()\n",
    "print('2010 : Mean',count2010.mean())"
   ]
  },
  {
   "cell_type": "code",
   "execution_count": 22,
   "metadata": {},
   "outputs": [
    {
     "name": "stdout",
     "output_type": "stream",
     "text": [
      "2010 accident rate estimate : 24.81095890410959\n",
      "2013 accident rate estimate : 25.90958904109589\n",
      "Conf interval for 2013: [24.975156065800284, 26.844022016391499]\n",
      "Conf interval for 2010: [23.932871944107148, 25.689045864112032]\n"
     ]
    }
   ],
   "source": [
    "n = len(count2013)\n",
    "m = len(count2010)\n",
    "mean_2013 = count2013.mean()\n",
    "mean_2010 = count2010.mean()\n",
    "s1 = count2013.std()\n",
    "s2 = count2010.std()\n",
    "conf_int1= [mean_2013 - s1*1.96/np.sqrt(n),mean_2013 + s1*1.96/np.sqrt(n)]\n",
    "conf_int2= [mean_2010 - s2*1.96/np.sqrt(m),mean_2010 + s2*1.96/np.sqrt(m)]\n",
    "print('2010 accident rate estimate :' , count2010.mean ())\n",
    "print('2013 accident rate estimate :' , count2013.mean ())\n",
    "print('Conf interval for 2013:' ,conf_int1)\n",
    "print('Conf interval for 2010:' ,conf_int2)"
   ]
  },
  {
   "cell_type": "code",
   "execution_count": 23,
   "metadata": {},
   "outputs": [
    {
     "name": "stdout",
     "output_type": "stream",
     "text": [
      "m: 365 n: 365\n",
      "mean difference :  1.0986301369863014\n"
     ]
    }
   ],
   "source": [
    "# Hypothesis Test using P-value\n",
    "\n",
    "n = len(count2010)\n",
    "m = len(count2013)\n",
    "p = (count2013.mean()-count2010.mean())\n",
    "print('m:' , m, 'n:' , n)\n",
    "print('mean difference : ' , p)"
   ]
  },
  {
   "cell_type": "code",
   "execution_count": 24,
   "metadata": {},
   "outputs": [],
   "source": [
    "# pooling distributions\n",
    "x=count2010\n",
    "y=count2013\n",
    "pool = np.concatenate([x,y])\n",
    "np.random.shuffle(pool)\n",
    "\n",
    "# sample generation\n",
    "import random\n",
    "N=1000\n",
    "dif = list(range(N))\n",
    "for i in range(N):\n",
    "    p1=[random.choice(pool) for _ in list(range(n))]\n",
    "    p2=[random.choice(pool) for _ in list(range(n))]\n",
    "    dif[i]=(np.mean(p1)-np.mean(p2))"
   ]
  },
  {
   "cell_type": "code",
   "execution_count": 25,
   "metadata": {},
   "outputs": [
    {
     "name": "stdout",
     "output_type": "stream",
     "text": [
      "p-value (Simulation) =  0.046 ( 4.6 % ),  Difference =  1.0986301369863014\n",
      "The effect is likely\n"
     ]
    }
   ],
   "source": [
    "dif2=np.array(dif)\n",
    "w1=np.where(dif2>p)[0]\n",
    "print('p-value (Simulation) = ',len(w1)/float(N),'(',len(w1)/float(N)*100,'% ), ','Difference = ',p)\n",
    "if(len(w1)/float(N))<0.05:\n",
    "    print('The effect is likely')\n",
    "else:\n",
    "    print('The effect is unlikely')"
   ]
  }
 ],
 "metadata": {
  "kernelspec": {
   "display_name": "Python 3",
   "language": "python",
   "name": "python3"
  },
  "language_info": {
   "codemirror_mode": {
    "name": "ipython",
    "version": 3
   },
   "file_extension": ".py",
   "mimetype": "text/x-python",
   "name": "python",
   "nbconvert_exporter": "python",
   "pygments_lexer": "ipython3",
   "version": "3.6.3"
  }
 },
 "nbformat": 4,
 "nbformat_minor": 2
}
