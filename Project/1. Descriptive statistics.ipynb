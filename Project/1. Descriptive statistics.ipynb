{
 "cells": [
  {
   "cell_type": "code",
   "execution_count": 1,
   "metadata": {
    "collapsed": true
   },
   "outputs": [],
   "source": [
    "import pandas as pd\n",
    "import numpy as np\n",
    "import matplotlib.pyplot as plt"
   ]
  },
  {
   "cell_type": "code",
   "execution_count": 2,
   "metadata": {
    "collapsed": true
   },
   "outputs": [],
   "source": [
    "file = open('F:/Learn Python/Data/adult.data', 'r')\n",
    "def chr_int(a):\n",
    "    if a.isdigit(): return int(a)\n",
    "    else: return 0\n",
    "\n",
    "data = []\n",
    "for line in file:\n",
    "    data1 = line.split(', ')\n",
    "    if len(data1) == 15:\n",
    "        data.append([chr_int(data1[0]), data1[1],\n",
    "                     chr_int(data1[2]), data1[3],\n",
    "                     chr_int(data1[4]), data1[5],\n",
    "                     data1[6], data1[7], data1[8],\n",
    "                     data1[9], chr_int(data1[10]),\n",
    "                     chr_int(data1[11]),\n",
    "                     chr_int(data1[12]),\n",
    "                     data1[13], data1[14]\n",
    "                    ])"
   ]
  },
  {
   "cell_type": "code",
   "execution_count": 3,
   "metadata": {},
   "outputs": [
    {
     "name": "stdout",
     "output_type": "stream",
     "text": [
      "[[50, 'Self-emp-not-inc', 83311, 'Bachelors', 13, 'Married-civ-spouse', 'Exec-managerial', 'Husband', 'White', 'Male', 0, 0, 13, 'United-States', '<=50K\\n']]\n"
     ]
    }
   ],
   "source": [
    "print (data [1:2])"
   ]
  },
  {
   "cell_type": "code",
   "execution_count": 4,
   "metadata": {
    "collapsed": true
   },
   "outputs": [],
   "source": [
    "import pandas as pd\n",
    "df = pd.DataFrame(data)\n",
    "df.columns = [\n",
    "    'age', 'type_employer', 'fnlwgt',\n",
    "    'education', 'education_num', 'marital',\n",
    "    'occupation', 'relationship', 'race',\n",
    "    'sex', 'capital_gain', 'capital_loss',\n",
    "    'hr_per_week', 'country', 'income'\n",
    "]"
   ]
  },
  {
   "cell_type": "code",
   "execution_count": 5,
   "metadata": {},
   "outputs": [
    {
     "data": {
      "text/plain": [
       "(32561, 15)"
      ]
     },
     "execution_count": 5,
     "metadata": {},
     "output_type": "execute_result"
    }
   ],
   "source": [
    "df.shape"
   ]
  },
  {
   "cell_type": "code",
   "execution_count": 6,
   "metadata": {},
   "outputs": [
    {
     "name": "stdout",
     "output_type": "stream",
     "text": [
      "country\n",
      "?           583\n",
      "Cambodia     19\n",
      "Canada      121\n",
      "China        75\n",
      "Columbia     59\n",
      "dtype: int64\n"
     ]
    }
   ],
   "source": [
    "counts = df.groupby('country').size()\n",
    "print (counts.head())"
   ]
  },
  {
   "cell_type": "code",
   "execution_count": 7,
   "metadata": {
    "collapsed": true
   },
   "outputs": [],
   "source": [
    "m1 = df[(df.sex == 'Male')]"
   ]
  },
  {
   "cell_type": "code",
   "execution_count": 8,
   "metadata": {
    "collapsed": true
   },
   "outputs": [],
   "source": [
    "m11 = df[(df.sex == 'Male')&(df.income == '>50K\\n')\n",
    "        ]\n",
    "fm = df[(df.sex == 'Female')]\n",
    "fm1 = df[(df.sex == 'Female')&(df.income == '>50K\\n')]"
   ]
  },
  {
   "cell_type": "code",
   "execution_count": 9,
   "metadata": {},
   "outputs": [
    {
     "name": "stdout",
     "output_type": "stream",
     "text": [
      "The rate of people with high income is:  24 %.\n",
      "The rste of men with high income is:  20 %.\n",
      "The rate of women with high income is:  10 %.\n"
     ]
    }
   ],
   "source": [
    "df1 = df[(df.income == '>50K\\n')]\n",
    "print ('The rate of people with high income is: ',\n",
    "      int(len(df1)/float(len(df))*100), '%.')\n",
    "print ('The rste of men with high income is: ',\n",
    "      int(len(m11)/float(len(df))*100), '%.')\n",
    "print ('The rate of women with high income is: ',\n",
    "      int(len(fm1)/float(len(fm))*100), '%.')\n",
    "       "
   ]
  },
  {
   "cell_type": "code",
   "execution_count": 10,
   "metadata": {},
   "outputs": [
    {
     "name": "stdout",
     "output_type": "stream",
     "text": [
      "The average age of men is:  39.43354749885268\n",
      "The average age of women is:  36.85823043357163\n",
      "The average of high-income men is:  44.62578805163614\n",
      "The average of high-income women is:  42.125530110262936\n"
     ]
    }
   ],
   "source": [
    "print ('The average age of men is: ',\n",
    "      m1['age'].mean())\n",
    "print ('The average age of women is: ',\n",
    "      fm['age'].mean())\n",
    "print ('The average of high-income men is: ',\n",
    "      m11['age'].mean())\n",
    "print ('The average of high-income women is: ',\n",
    "      fm1['age'].mean())"
   ]
  },
  {
   "cell_type": "code",
   "execution_count": 11,
   "metadata": {},
   "outputs": [
    {
     "name": "stdout",
     "output_type": "stream",
     "text": [
      "Statistics of age for men: mu: 39.43354749885268 var: 178.77375174530096 std: 13.37063019252649\n",
      "Statistics of age for women: mu: 36.85823043357163 var: 196.3837063948037 std: 14.01369709943824\n"
     ]
    }
   ],
   "source": [
    "m1_mu = m1['age'].mean()\n",
    "fm_mu = fm['age'].mean()\n",
    "m1_var = m1['age'].var()\n",
    "fm_var = fm['age'].var()\n",
    "m1_std = m1['age'].std()\n",
    "fm_std = fm['age'].std()\n",
    "print ('Statistics of age for men: mu:',\n",
    "      m1_mu, 'var:', m1_var, 'std:',m1_std)\n",
    "print ('Statistics of age for women: mu:',\n",
    "      fm_mu, 'var:', fm_var, 'std:', fm_std)"
   ]
  },
  {
   "cell_type": "code",
   "execution_count": 12,
   "metadata": {},
   "outputs": [
    {
     "name": "stdout",
     "output_type": "stream",
     "text": [
      "Median age per men and women:  38.0 35.0\n",
      "Median age per men and women with high-income:  44.0 41.0\n"
     ]
    }
   ],
   "source": [
    "m1_median = m1['age'].median()\n",
    "fm_median = fm['age'].median()\n",
    "print ('Median age per men and women: ',\n",
    "      m1_median, fm_median)\n",
    "m1_median_age = m11['age'].median()\n",
    "fm_median_age = fm1['age'].median()\n",
    "print ('Median age per men and women with high-income: ',\n",
    "      m1_median_age, fm_median_age)"
   ]
  },
  {
   "cell_type": "code",
   "execution_count": 13,
   "metadata": {},
   "outputs": [
    {
     "data": {
      "image/png": "[encoded data removed]",
      "text/plain": [
       "<matplotlib.figure.Figure at 0x293d1bfc8d0>"
      ]
     },
     "metadata": {},
     "output_type": "display_data"
    }
   ],
   "source": [
    "m1_age = m1['age']\n",
    "m1_age.plot.hist(normed = 0, histtype = 'stepfilled',\n",
    "           bins = 20)\n",
    "plt.show()"
   ]
  },
  {
   "cell_type": "code",
   "execution_count": 14,
   "metadata": {},
   "outputs": [
    {
     "data": {
      "image/png": "[encoded data removed]",
      "text/plain": [
       "<matplotlib.figure.Figure at 0x293d6748358>"
      ]
     },
     "metadata": {},
     "output_type": "display_data"
    }
   ],
   "source": [
    "fm_age = fm['age']\n",
    "fm_age.hist(normed = 0, histtype = 'stepfilled',\n",
    "           bins = 10)\n",
    "plt.show()"
   ]
  },
  {
   "cell_type": "code",
   "execution_count": 15,
   "metadata": {},
   "outputs": [
    {
     "data": {
      "image/png": "[encoded data removed]",
      "text/plain": [
       "<matplotlib.figure.Figure at 0x293d67483c8>"
      ]
     },
     "metadata": {},
     "output_type": "display_data"
    }
   ],
   "source": [
    "import seaborn as sns\n",
    "fm_age.hist(normed = 0, histtype ='stepfilled',\n",
    "           alpha = 0.5, bins = 20)\n",
    "m1_age.hist(normed = 0, histtype = 'stepfilled',\n",
    "           alpha = 0.5,\n",
    "           color = sns.desaturate('indianred',\n",
    "                                 0.75),\n",
    "           bins = 10)\n",
    "plt.show()"
   ]
  },
  {
   "cell_type": "code",
   "execution_count": 16,
   "metadata": {},
   "outputs": [
    {
     "data": {
      "image/png": "[encoded data removed]",
      "text/plain": [
       "<matplotlib.figure.Figure at 0x293d77eab00>"
      ]
     },
     "metadata": {},
     "output_type": "display_data"
    }
   ],
   "source": [
    "#Prob. Mass Function\n",
    "import seaborn as sns\n",
    "fm_age.hist(normed = 1, histtype ='stepfilled',\n",
    "           alpha = 0.5, bins = 20)\n",
    "m1_age.hist(normed = 1, histtype = 'stepfilled',\n",
    "           alpha = 0.5, bins = 10,\n",
    "           color = sns.desaturate('indianred',\n",
    "                                 0.75))\n",
    "plt.show()"
   ]
  },
  {
   "cell_type": "code",
   "execution_count": 17,
   "metadata": {},
   "outputs": [
    {
     "data": {
      "image/png": "[encoded data removed]",
      "text/plain": [
       "<matplotlib.figure.Figure at 0x293d769ee10>"
      ]
     },
     "metadata": {},
     "output_type": "display_data"
    }
   ],
   "source": [
    "#CDF\n",
    "import seaborn as sns\n",
    "m1_age.hist(normed = 1, histtype = 'step',\n",
    "           cumulative = True, linewidth = 3.5,\n",
    "           bins = 20)\n",
    "fm_age.hist(normed = 1, histtype = 'step',\n",
    "           cumulative = True, linewidth = 3.5,\n",
    "           bins = 20,\n",
    "           color = sns.desaturate('indianred',0.75))\n",
    "plt.show()"
   ]
  },
  {
   "cell_type": "code",
   "execution_count": 18,
   "metadata": {},
   "outputs": [
    {
     "data": {
      "image/png": "[encoded data removed]",
      "text/plain": [
       "<matplotlib.figure.Figure at 0x293d789a940>"
      ]
     },
     "metadata": {},
     "output_type": "display_data"
    }
   ],
   "source": [
    "import seaborn as sns\n",
    "m1_age.hist(normed = 1, histtype = 'step',\n",
    "           cumulative = True, linewidth = 3.5,\n",
    "           bins = 20)\n",
    "fm_age.hist(normed = 1, histtype = 'step',\n",
    "           cumulative = True, linewidth = 3.5,\n",
    "           bins = 20,\n",
    "           color = sns.desaturate('indianred',0.75))\n",
    "plt.show()"
   ]
  },
  {
   "cell_type": "code",
   "execution_count": 19,
   "metadata": {
    "collapsed": true
   },
   "outputs": [],
   "source": [
    "#outlier\n",
    "df2 = df.drop(df.index[\n",
    "    (df.income == '>50K\\n') &\n",
    "    (df['age'] > df['age'].median() + 35) &\n",
    "    (df['age'] > df['age'].median() - 15)\n",
    "])\n",
    "m11_age = m11['age']\n",
    "fm1_age = fm1['age']\n",
    "\n",
    "m12_age = m11_age.drop(m11_age.index[\n",
    "    (m11_age > df['age'].median() + 35) &\n",
    "    (m11_age > df['age'].median() - 15)\n",
    "]) \n",
    "fm2_age = fm1_age.drop(fm1_age.index[\n",
    "    (fm1_age > df['age'].median() + 35) &\n",
    "    (fm1_age > df['age'].median() - 15)\n",
    "])"
   ]
  },
  {
   "cell_type": "code",
   "execution_count": 20,
   "metadata": {},
   "outputs": [
    {
     "name": "stdout",
     "output_type": "stream",
     "text": [
      "Men statistics:\n",
      "Mean: 44.317982123920615 std: 10.019749857171412\n",
      "Median: 44.0\n",
      "Min: 19 Max: 72\n",
      "Women statistics:\n",
      "Mean: 41.877028181041844 Std: 10.036441807343714\n",
      "Median: 41.0\n",
      "Min: 19 Max: 72\n"
     ]
    }
   ],
   "source": [
    "#Check how the mean and the median changed once the \n",
    "#data were cleaned\n",
    "mu2m1 = m12_age.mean()\n",
    "std2m1 = m12_age.std()\n",
    "md2m1 = m12_age.median()\n",
    "mu2fm = fm2_age.mean()\n",
    "std2fm = fm2_age.std()\n",
    "md2fm = fm2_age.median()\n",
    "\n",
    "print ('Men statistics:')\n",
    "print ('Mean:', mu2m1, 'std:', std2m1)\n",
    "print ('Median:', md2m1)\n",
    "print ('Min:', m12_age.min(), 'Max:', m12_age.max())\n",
    "\n",
    "print ('Women statistics:')\n",
    "print ('Mean:', mu2fm, 'Std:', std2fm)\n",
    "print ('Median:', md2fm)\n",
    "print ('Min:', fm2_age.min(), 'Max:', fm2_age.max())\n"
   ]
  },
  {
   "cell_type": "code",
   "execution_count": 21,
   "metadata": {},
   "outputs": [
    {
     "data": {
      "image/png": "[encoded data removed]",
      "text/plain": [
       "<matplotlib.figure.Figure at 0x293d78beef0>"
      ]
     },
     "metadata": {},
     "output_type": "display_data"
    }
   ],
   "source": [
    "#Visualize how many outliers are removed from data\n",
    "import matplotlib.pyplot as plt\n",
    "plt.figure(figsize = (13.4, 5))\n",
    "df.age[(df.income == '>50K\\n')].plot(alpha = 0.25, color = 'blue')\n",
    "df2.age[(df2.income == '>50K\\n')].plot(alpha = 0.45, color = 'red')\n",
    "plt.show()"
   ]
  },
  {
   "cell_type": "code",
   "execution_count": 22,
   "metadata": {},
   "outputs": [
    {
     "name": "stdout",
     "output_type": "stream",
     "text": [
      "The mean difference with outliers is: 2.58.\n",
      "The mean difference without outliers is: 2.44.\n"
     ]
    }
   ],
   "source": [
    "#the difference with and without outliers\n",
    "print ('The mean difference with outliers is: %4.2f.'\n",
    "      % (m1_age.mean() - fm_age.mean()))\n",
    "print ('The mean difference without outliers is: %4.2f.'\n",
    "      % (m12_age.mean() - fm2_age.mean()))"
   ]
  },
  {
   "cell_type": "code",
   "execution_count": 23,
   "metadata": {},
   "outputs": [
    {
     "data": {
      "image/png": "[encoded data removed]",
      "text/plain": [
       "<matplotlib.figure.Figure at 0x293d773e6a0>"
      ]
     },
     "metadata": {},
     "output_type": "display_data"
    }
   ],
   "source": [
    "import numpy as np\n",
    "countx, divisionx = np.histogram(m12_age, normed = True)\n",
    "county, divisiony = np.histogram(fm2_age, normed = True)\n",
    "val = [(divisionx[i] + divisiony[i+1])/2 for i in range(len(divisionx) - 1)]\n",
    "plt.plot(val, countx - county, 'o-')\n",
    "plt.show()"
   ]
  },
  {
   "cell_type": "code",
   "execution_count": 24,
   "metadata": {},
   "outputs": [
    {
     "name": "stdout",
     "output_type": "stream",
     "text": [
      "Skewness of the male population =  0.266444383843\n",
      "skewness of the female population is =  0.386333524913\n"
     ]
    }
   ],
   "source": [
    "#beda spasi hati2\n",
    "def skewness(x):\n",
    "    res = 0\n",
    "    m = x.mean()\n",
    "    s = x.std()\n",
    "    for i in x:\n",
    "        res += (i-m)*(i-m)*(i-m)\n",
    "    res /= (len(x)*s*s*s)\n",
    "    return res\n",
    "print ('Skewness of the male population = ',\n",
    "      skewness(m12_age))\n",
    "print ('skewness of the female population is = ',\n",
    "      skewness(fm2_age))"
   ]
  },
  {
   "cell_type": "code",
   "execution_count": 25,
   "metadata": {},
   "outputs": [
    {
     "name": "stdout",
     "output_type": "stream",
     "text": [
      "Pearson ’s coefficient of the male population =  9.55830402220993\n",
      "Pearson ’s coefficient of the female population =  26.40672690728092\n"
     ]
    }
   ],
   "source": [
    "def pearson (x):\n",
    "    return 3*(x. mean () - x. median ())*x.std ()\n",
    "print ('Pearson ’s coefficient of the male population = ',\n",
    "       pearson(m12_age))\n",
    "print ('Pearson ’s coefficient of the female population = ',\n",
    "       pearson(fm2_age))\n"
   ]
  },
  {
   "cell_type": "code",
   "execution_count": null,
   "metadata": {
    "collapsed": true
   },
   "outputs": [],
   "source": []
  },
  {
   "cell_type": "code",
   "execution_count": null,
   "metadata": {
    "collapsed": true
   },
   "outputs": [],
   "source": []
  }
 ],
 "metadata": {
  "kernelspec": {
   "display_name": "Python 3",
   "language": "python",
   "name": "python3"
  },
  "language_info": {
   "codemirror_mode": {
    "name": "ipython",
    "version": 3
   },
   "file_extension": ".py",
   "mimetype": "text/x-python",
   "name": "python",
   "nbconvert_exporter": "python",
   "pygments_lexer": "ipython3",
   "version": "3.6.3"
  }
 },
 "nbformat": 4,
 "nbformat_minor": 2
}
